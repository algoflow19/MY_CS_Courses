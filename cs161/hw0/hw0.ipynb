{
 "cells": [
  {
   "cell_type": "markdown",
   "metadata": {},
   "source": [
    "# Homework 0\n",
    "Here's the companion code for Homework 0, an assignment that's worth 0% of your grade, but you can use to (1) gauge whether you're prepared to take this course and (2) illustrate proper HW solution style."
   ]
  },
  {
   "cell_type": "code",
   "execution_count": 1,
   "metadata": {},
   "outputs": [],
   "source": [
    "import random"
   ]
  },
  {
   "cell_type": "markdown",
   "metadata": {},
   "source": [
    "## Exercise 1\n",
    "\n",
    "The function below estimates the mean of n numbers, without looking at all of them, by sampling with replacement."
   ]
  },
  {
   "cell_type": "code",
   "execution_count": 2,
   "metadata": {},
   "outputs": [],
   "source": [
    "def estimateMean(A):\n",
    "    samples = []\n",
    "    # Draws a random sample of 10 elements with replacement from A\n",
    "    for i in range(10):\n",
    "        samples.append(A[random.choice(range(len(A)))])\n",
    "    # Returns the sample mean\n",
    "    return sum(samples) / len(samples)"
   ]
  },
  {
   "cell_type": "markdown",
   "metadata": {},
   "source": [
    "### Part A (not in notebook) asks you to prove that E[ estimateMean(A) ] is equal to the mean of A."
   ]
  },
  {
   "cell_type": "markdown",
   "metadata": {},
   "source": [
    "### Part B.  \n",
    "\n",
    "Here's some code which plots how far off estimateMean is."
   ]
  },
  {
   "cell_type": "code",
   "execution_count": 3,
   "metadata": {},
   "outputs": [],
   "source": [
    "def getErrorData(n):\n",
    "    errors = []\n",
    "    for trial in range(1000):\n",
    "        A = [choice(range(100)) for i in range(n)]\n",
    "        trueMean = sum(A) / len(A)\n",
    "        estMean = estimateMean(A)\n",
    "        errors.append(trueMean - estMean)\n",
    "    return errors"
   ]
  },
  {
   "cell_type": "code",
   "execution_count": 14,
   "metadata": {},
   "outputs": [
    {
     "name": "stdout",
     "output_type": "stream",
     "text": [
      "Populating the interactive namespace from numpy and matplotlib\n"
     ]
    },
    {
     "data": {
      "text/plain": [
       "<matplotlib.legend.Legend at 0x7f15321d4320>"
      ]
     },
     "execution_count": 14,
     "metadata": {},
     "output_type": "execute_result"
    },
    {
     "data": {
      "image/png": "[encoded data removed]",
      "text/plain": [
       "<Figure size 432x288 with 1 Axes>"
      ]
     },
     "metadata": {},
     "output_type": "display_data"
    }
   ],
   "source": [
    "%pylab inline\n",
    "errors30 = getErrorData(30)\n",
    "hist(errors30, label=\"n=30\", bins=30, color='r')\n",
    "\n",
    "legend()"
   ]
  },
  {
   "cell_type": "markdown",
   "metadata": {},
   "source": [
    "Play around with the code to answer the following question:\n",
    "\n",
    "    Is it likely that the estimate is off by more than 20?  Does the answer depend on n? \n",
    "    \n",
    "Justify your answer informally with a graph (or with multiple graphs)"
   ]
  },
  {
   "cell_type": "code",
   "execution_count": 17,
   "metadata": {},
   "outputs": [
    {
     "data": {
      "text/plain": [
       "[<matplotlib.lines.Line2D at 0x7f1532086198>]"
      ]
     },
     "execution_count": 17,
     "metadata": {},
     "output_type": "execute_result"
    },
    {
     "data": {
      "image/png": "[encoded data removed]",
      "text/plain": [
       "<Figure size 432x288 with 1 Axes>"
      ]
     },
     "metadata": {},
     "output_type": "display_data"
    }
   ],
   "source": [
    "n_list=[30,60,120,240,480,960,1280]\n",
    "n_errors_num=[]\n",
    "for n in n_list:\n",
    "    currentErrorNum=0\n",
    "    for trails in range(5):\n",
    "        errors=getErrorData(n)\n",
    "        for error in errors:\n",
    "            if(abs(error)>20):\n",
    "                currentErrorNum+=1\n",
    "    n_errors_num.append(currentErrorNum/5)\n",
    "\n",
    "plot(n_list,n_errors_num)\n"
   ]
  },
  {
   "cell_type": "code",
   "execution_count": null,
   "metadata": {},
   "outputs": [],
   "source": []
  }
 ],
 "metadata": {
  "kernelspec": {
   "display_name": "Python 3",
   "language": "python",
   "name": "python3"
  },
  "language_info": {
   "codemirror_mode": {
    "name": "ipython",
    "version": 3
   },
   "file_extension": ".py",
   "mimetype": "text/x-python",
   "name": "python",
   "nbconvert_exporter": "python",
   "pygments_lexer": "ipython3",
   "version": "3.6.5"
  }
 },
 "nbformat": 4,
 "nbformat_minor": 2
}
